{
 "cells": [
  {
   "cell_type": "markdown",
   "metadata": {},
   "source": [
    "## Task\n",
    "### Given an integer, n"
   ]
  },
  {
   "cell_type": "code",
   "execution_count": 46,
   "metadata": {},
   "outputs": [],
   "source": [
    "def py_if_else(n):\n",
    "    if (n % 2) != 0:\n",
    "        return(\"Weird\")\n",
    "        \n",
    "    if (n % 2) == 0:\n",
    "        if n < 5:\n",
    "            return(\"Not Weird\")\n",
    "        elif (n > 5) & (n < 21):\n",
    "            return(\"Weird\")\n",
    "        elif n > 20:\n",
    "            return(\"Not Weird\")\n",
    "            "
   ]
  },
  {
   "cell_type": "code",
   "execution_count": 47,
   "metadata": {},
   "outputs": [
    {
     "data": {
      "text/plain": [
       "'Not Weird'"
      ]
     },
     "execution_count": 47,
     "metadata": {},
     "output_type": "execute_result"
    }
   ],
   "source": [
    "py_if_else(4)"
   ]
  },
  {
   "cell_type": "code",
   "execution_count": 23,
   "metadata": {},
   "outputs": [],
   "source": [
    "import numpy as np"
   ]
  },
  {
   "cell_type": "code",
   "execution_count": 48,
   "metadata": {},
   "outputs": [
    {
     "name": "stdout",
     "output_type": "stream",
     "text": [
      "1 - Weird\n",
      "2 - Not Weird\n",
      "3 - Weird\n",
      "4 - Not Weird\n",
      "5 - Weird\n",
      "6 - Weird\n",
      "7 - Weird\n",
      "8 - Weird\n",
      "9 - Weird\n",
      "10 - Weird\n",
      "11 - Weird\n",
      "12 - Weird\n",
      "13 - Weird\n",
      "14 - Weird\n",
      "15 - Weird\n",
      "16 - Weird\n",
      "17 - Weird\n",
      "18 - Weird\n",
      "19 - Weird\n",
      "20 - Weird\n",
      "21 - Weird\n",
      "22 - Not Weird\n",
      "23 - Weird\n",
      "24 - Not Weird\n",
      "25 - Weird\n",
      "26 - Not Weird\n",
      "27 - Weird\n",
      "28 - Not Weird\n",
      "29 - Weird\n",
      "30 - Not Weird\n",
      "31 - Weird\n",
      "32 - Not Weird\n",
      "33 - Weird\n",
      "34 - Not Weird\n",
      "35 - Weird\n",
      "36 - Not Weird\n",
      "37 - Weird\n",
      "38 - Not Weird\n",
      "39 - Weird\n",
      "40 - Not Weird\n",
      "41 - Weird\n",
      "42 - Not Weird\n",
      "43 - Weird\n",
      "44 - Not Weird\n",
      "45 - Weird\n",
      "46 - Not Weird\n",
      "47 - Weird\n",
      "48 - Not Weird\n",
      "49 - Weird\n",
      "50 - Not Weird\n",
      "51 - Weird\n",
      "52 - Not Weird\n",
      "53 - Weird\n",
      "54 - Not Weird\n",
      "55 - Weird\n",
      "56 - Not Weird\n",
      "57 - Weird\n",
      "58 - Not Weird\n",
      "59 - Weird\n",
      "60 - Not Weird\n",
      "61 - Weird\n",
      "62 - Not Weird\n",
      "63 - Weird\n",
      "64 - Not Weird\n",
      "65 - Weird\n",
      "66 - Not Weird\n",
      "67 - Weird\n",
      "68 - Not Weird\n",
      "69 - Weird\n",
      "70 - Not Weird\n",
      "71 - Weird\n",
      "72 - Not Weird\n",
      "73 - Weird\n",
      "74 - Not Weird\n",
      "75 - Weird\n",
      "76 - Not Weird\n",
      "77 - Weird\n",
      "78 - Not Weird\n",
      "79 - Weird\n",
      "80 - Not Weird\n",
      "81 - Weird\n",
      "82 - Not Weird\n",
      "83 - Weird\n",
      "84 - Not Weird\n",
      "85 - Weird\n",
      "86 - Not Weird\n",
      "87 - Weird\n",
      "88 - Not Weird\n",
      "89 - Weird\n",
      "90 - Not Weird\n",
      "91 - Weird\n",
      "92 - Not Weird\n",
      "93 - Weird\n",
      "94 - Not Weird\n",
      "95 - Weird\n",
      "96 - Not Weird\n",
      "97 - Weird\n",
      "98 - Not Weird\n",
      "99 - Weird\n",
      "100 - Not Weird\n"
     ]
    }
   ],
   "source": [
    "arr = np.array(range(100)) + 1\n",
    "for i in arr:\n",
    "    print(str(i) + \" - \" + py_if_else(i))"
   ]
  },
  {
   "cell_type": "markdown",
   "metadata": {},
   "source": [
    "## Task\n",
    "### is a leap year"
   ]
  },
  {
   "cell_type": "code",
   "execution_count": 78,
   "metadata": {},
   "outputs": [],
   "source": [
    "def determine_leapyr(year):\n",
    "    if year % 4 == 0:\n",
    "        if year % 100 == 0:\n",
    "            if year % 400 == 0:\n",
    "                return(True)\n",
    "            else:\n",
    "                return(False)\n",
    "        else:\n",
    "            return(True)\n",
    "    if year % 4 != 0:\n",
    "        return(False)"
   ]
  },
  {
   "cell_type": "code",
   "execution_count": 79,
   "metadata": {},
   "outputs": [
    {
     "data": {
      "text/plain": [
       "False"
      ]
     },
     "execution_count": 79,
     "metadata": {},
     "output_type": "execute_result"
    }
   ],
   "source": [
    "determine_leapyr(1800)"
   ]
  },
  {
   "cell_type": "code",
   "execution_count": 89,
   "metadata": {},
   "outputs": [
    {
     "ename": "SyntaxError",
     "evalue": "invalid syntax (<ipython-input-89-4835dd79b3c0>, line 1)",
     "output_type": "error",
     "traceback": [
      "\u001b[1;36m  File \u001b[1;32m\"<ipython-input-89-4835dd79b3c0>\"\u001b[1;36m, line \u001b[1;32m1\u001b[0m\n\u001b[1;33m    0 to 2\u001b[0m\n\u001b[1;37m       ^\u001b[0m\n\u001b[1;31mSyntaxError\u001b[0m\u001b[1;31m:\u001b[0m invalid syntax\n"
     ]
    }
   ],
   "source": [
    "0 to 2"
   ]
  },
  {
   "cell_type": "code",
   "execution_count": 92,
   "metadata": {},
   "outputs": [
    {
     "data": {
      "text/plain": [
       "'1234'"
      ]
     },
     "execution_count": 92,
     "metadata": {},
     "output_type": "execute_result"
    }
   ],
   "source": [
    "output = \"\"\n",
    "n = 4\n",
    "iter = 1\n",
    "while iter < (n + 1):\n",
    "    output = output + str(iter)\n",
    "    iter = iter + 1\n",
    "\n",
    "output"
   ]
  },
  {
   "cell_type": "markdown",
   "metadata": {},
   "source": [
    "## List Comprehensions\n",
    "### tasks all 3D combinations not equal to n"
   ]
  },
  {
   "cell_type": "code",
   "execution_count": 61,
   "metadata": {},
   "outputs": [],
   "source": [
    "x = 1\n",
    "y = 1\n",
    "z = 2\n",
    "n = 3"
   ]
  },
  {
   "cell_type": "code",
   "execution_count": 67,
   "metadata": {},
   "outputs": [],
   "source": [
    "all_coords = [[i, j, k] for i in range((x+1)) for j in range((y+1)) for k in range((z+1))]"
   ]
  },
  {
   "cell_type": "code",
   "execution_count": 68,
   "metadata": {},
   "outputs": [],
   "source": [
    "all_sums = list(map(lambda x: sum(x), all_coords))"
   ]
  },
  {
   "cell_type": "code",
   "execution_count": 69,
   "metadata": {},
   "outputs": [],
   "source": [
    "ids = [i for i, x in enumerate(all_sums) if x != n]"
   ]
  },
  {
   "cell_type": "code",
   "execution_count": 70,
   "metadata": {},
   "outputs": [
    {
     "data": {
      "text/plain": [
       "[[0, 0, 0],\n",
       " [0, 0, 1],\n",
       " [0, 0, 2],\n",
       " [0, 1, 0],\n",
       " [0, 1, 1],\n",
       " [1, 0, 0],\n",
       " [1, 0, 1],\n",
       " [1, 1, 0],\n",
       " [1, 1, 2]]"
      ]
     },
     "execution_count": 70,
     "metadata": {},
     "output_type": "execute_result"
    }
   ],
   "source": [
    "[all_coords[i] for i in ids]"
   ]
  },
  {
   "cell_type": "markdown",
   "metadata": {},
   "source": [
    "## Task - Find runner-up score\n",
    "### given score sheet, find score of runner-up"
   ]
  },
  {
   "cell_type": "code",
   "execution_count": 76,
   "metadata": {},
   "outputs": [],
   "source": [
    "n = 5\n",
    "arr = list(map(int, \"2 3 6 6 5\".split()))"
   ]
  },
  {
   "cell_type": "code",
   "execution_count": 84,
   "metadata": {},
   "outputs": [
    {
     "name": "stdout",
     "output_type": "stream",
     "text": [
      "5\n"
     ]
    }
   ],
   "source": [
    "found_max = max(arr)\n",
    "non_winners = [x for x in arr if x < found_max]\n",
    "output_max = max(non_winners)\n",
    "print(output_max)"
   ]
  },
  {
   "cell_type": "markdown",
   "metadata": {},
   "source": [
    "## Task - nested scores"
   ]
  },
  {
   "cell_type": "code",
   "execution_count": 89,
   "metadata": {},
   "outputs": [],
   "source": [
    "iters = [i for i in range(5*2) if (i % 2) == 0]"
   ]
  },
  {
   "cell_type": "code",
   "execution_count": 91,
   "metadata": {},
   "outputs": [
    {
     "data": {
      "text/plain": [
       "[0, 2, 4, 6, 8]"
      ]
     },
     "execution_count": 91,
     "metadata": {},
     "output_type": "execute_result"
    }
   ],
   "source": [
    "list(range(10))[0:10:2]"
   ]
  },
  {
   "cell_type": "code",
   "execution_count": 92,
   "metadata": {},
   "outputs": [],
   "source": [
    "records = [['Harry', 37.21], ['Berry', 37.21], ['Tina', 37.2], ['Akriti', 41.0], ['Harsh', 39.0]]"
   ]
  },
  {
   "cell_type": "code",
   "execution_count": 106,
   "metadata": {},
   "outputs": [
    {
     "data": {
      "text/plain": [
       "37.2"
      ]
     },
     "execution_count": 106,
     "metadata": {},
     "output_type": "execute_result"
    }
   ],
   "source": [
    "top_score = min(list(map(lambda x: x[1],records)))\n",
    "top_score"
   ]
  },
  {
   "cell_type": "code",
   "execution_count": 108,
   "metadata": {},
   "outputs": [
    {
     "data": {
      "text/plain": [
       "[['Harry', 37.21], ['Berry', 37.21], ['Akriti', 41.0], ['Harsh', 39.0]]"
      ]
     },
     "execution_count": 108,
     "metadata": {},
     "output_type": "execute_result"
    }
   ],
   "source": [
    "others = [x for x in records if x[1] > top_score]\n",
    "others"
   ]
  },
  {
   "cell_type": "code",
   "execution_count": 109,
   "metadata": {},
   "outputs": [
    {
     "data": {
      "text/plain": [
       "37.21"
      ]
     },
     "execution_count": 109,
     "metadata": {},
     "output_type": "execute_result"
    }
   ],
   "source": [
    "next_score = min(list(map(lambda x: x[1], others)))\n",
    "next_score"
   ]
  },
  {
   "cell_type": "code",
   "execution_count": 110,
   "metadata": {},
   "outputs": [
    {
     "data": {
      "text/plain": [
       "[['Harry', 37.21], ['Berry', 37.21]]"
      ]
     },
     "execution_count": 110,
     "metadata": {},
     "output_type": "execute_result"
    }
   ],
   "source": [
    "students = [x for x in others if x[1] == next_score]\n",
    "students"
   ]
  },
  {
   "cell_type": "code",
   "execution_count": 115,
   "metadata": {},
   "outputs": [
    {
     "data": {
      "text/plain": [
       "['Harry', 'Berry']"
      ]
     },
     "execution_count": 115,
     "metadata": {},
     "output_type": "execute_result"
    }
   ],
   "source": [
    "nms = list(map(lambda x: x[0], students))\n",
    "nms"
   ]
  },
  {
   "cell_type": "code",
   "execution_count": 119,
   "metadata": {},
   "outputs": [
    {
     "data": {
      "text/plain": [
       "['Berry', 'Harry']"
      ]
     },
     "execution_count": 119,
     "metadata": {},
     "output_type": "execute_result"
    }
   ],
   "source": [
    "sorted(nms)"
   ]
  },
  {
   "cell_type": "markdown",
   "metadata": {},
   "source": [
    "### Task - finding the percentage"
   ]
  },
  {
   "cell_type": "code",
   "execution_count": 122,
   "metadata": {},
   "outputs": [],
   "source": [
    "n = 3\n",
    "student_marks = {\n",
    "    'Krishna': [67, 68, 69],\n",
    "    'Arjun': [70, 98, 63],\n",
    "    'Malika': [52, 56, 60]\n",
    "}\n",
    "query_name = 'Malika'"
   ]
  },
  {
   "cell_type": "code",
   "execution_count": 131,
   "metadata": {},
   "outputs": [],
   "source": [
    "ids = [i for i, x in enumerate(student_marks) if x == query_name][0]"
   ]
  },
  {
   "cell_type": "code",
   "execution_count": 141,
   "metadata": {},
   "outputs": [
    {
     "data": {
      "text/plain": [
       "'56.00'"
      ]
     },
     "execution_count": 141,
     "metadata": {},
     "output_type": "execute_result"
    }
   ],
   "source": [
    "arr = student_marks[query_name]\n",
    "'{:.2f}'.format(sum(arr)/len(arr))"
   ]
  },
  {
   "cell_type": "markdown",
   "metadata": {},
   "source": [
    "## Task -- Matrix Script"
   ]
  },
  {
   "cell_type": "code",
   "execution_count": 142,
   "metadata": {},
   "outputs": [],
   "source": [
    "import math\n",
    "import os\n",
    "import random\n",
    "import re\n",
    "import sys"
   ]
  },
  {
   "cell_type": "code",
   "execution_count": 144,
   "metadata": {},
   "outputs": [
    {
     "data": {
      "text/plain": [
       "['Tsi', 'h%x', 'i #', 'sM ', '$a ', '#t%', 'ir!']"
      ]
     },
     "execution_count": 144,
     "metadata": {},
     "output_type": "execute_result"
    }
   ],
   "source": [
    "n = 7\n",
    "m = 3\n",
    "matrix = ['Tsi', 'h%x', 'i #', 'sM ', '$a ', '#t%', 'ir!']\n",
    "matrix"
   ]
  },
  {
   "cell_type": "code",
   "execution_count": 151,
   "metadata": {},
   "outputs": [],
   "source": [
    "flat_list = []\n",
    "for i in range(len(matrix)):\n",
    "    tmp = []\n",
    "    for j in range(len(matrix[i])):\n",
    "        tmp.append(matrix[i][j])\n",
    "    flat_list.append(tmp)"
   ]
  },
  {
   "cell_type": "code",
   "execution_count": 152,
   "metadata": {},
   "outputs": [
    {
     "data": {
      "text/plain": [
       "[['T', 's', 'i'],\n",
       " ['h', '%', 'x'],\n",
       " ['i', ' ', '#'],\n",
       " ['s', 'M', ' '],\n",
       " ['$', 'a', ' '],\n",
       " ['#', 't', '%'],\n",
       " ['i', 'r', '!']]"
      ]
     },
     "execution_count": 152,
     "metadata": {},
     "output_type": "execute_result"
    }
   ],
   "source": [
    "output = \"\"\n",
    "for i in range(m):\n",
    "    for j in range(n):"
   ]
  }
 ],
 "metadata": {
  "kernelspec": {
   "display_name": "Python 3",
   "language": "python",
   "name": "python3"
  },
  "language_info": {
   "codemirror_mode": {
    "name": "ipython",
    "version": 3
   },
   "file_extension": ".py",
   "mimetype": "text/x-python",
   "name": "python",
   "nbconvert_exporter": "python",
   "pygments_lexer": "ipython3",
   "version": "3.7.4"
  }
 },
 "nbformat": 4,
 "nbformat_minor": 4
}
