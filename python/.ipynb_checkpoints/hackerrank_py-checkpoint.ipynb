{
 "cells": [
  {
   "cell_type": "markdown",
   "metadata": {},
   "source": [
    "## Task\n",
    "### Given an integer, n"
   ]
  },
  {
   "cell_type": "code",
   "execution_count": 1,
   "metadata": {},
   "outputs": [],
   "source": [
    "def py_if_else(n):\n",
    "    if (n % 2) != 0:\n",
    "        return(\"Weird\")\n",
    "        \n",
    "    if (n % 2) == 0:\n",
    "        if n < 5:\n",
    "            return(\"Not Weird\")\n",
    "        elif (n > 5) & (n < 21):\n",
    "            return(\"Weird\")\n",
    "        elif n > 20:\n",
    "            return(\"Not Weird\")\n",
    "            "
   ]
  },
  {
   "cell_type": "code",
   "execution_count": 2,
   "metadata": {},
   "outputs": [
    {
     "data": {
      "text/plain": [
       "'Not Weird'"
      ]
     },
     "execution_count": 2,
     "metadata": {},
     "output_type": "execute_result"
    }
   ],
   "source": [
    "py_if_else(4)"
   ]
  },
  {
   "cell_type": "code",
   "execution_count": 3,
   "metadata": {},
   "outputs": [],
   "source": [
    "import numpy as np"
   ]
  },
  {
   "cell_type": "code",
   "execution_count": 4,
   "metadata": {},
   "outputs": [
    {
     "name": "stdout",
     "output_type": "stream",
     "text": [
      "1 - Weird\n",
      "2 - Not Weird\n",
      "3 - Weird\n",
      "4 - Not Weird\n",
      "5 - Weird\n",
      "6 - Weird\n",
      "7 - Weird\n",
      "8 - Weird\n",
      "9 - Weird\n",
      "10 - Weird\n",
      "11 - Weird\n",
      "12 - Weird\n",
      "13 - Weird\n",
      "14 - Weird\n",
      "15 - Weird\n",
      "16 - Weird\n",
      "17 - Weird\n",
      "18 - Weird\n",
      "19 - Weird\n",
      "20 - Weird\n",
      "21 - Weird\n",
      "22 - Not Weird\n",
      "23 - Weird\n",
      "24 - Not Weird\n",
      "25 - Weird\n",
      "26 - Not Weird\n",
      "27 - Weird\n",
      "28 - Not Weird\n",
      "29 - Weird\n",
      "30 - Not Weird\n",
      "31 - Weird\n",
      "32 - Not Weird\n",
      "33 - Weird\n",
      "34 - Not Weird\n",
      "35 - Weird\n",
      "36 - Not Weird\n",
      "37 - Weird\n",
      "38 - Not Weird\n",
      "39 - Weird\n",
      "40 - Not Weird\n",
      "41 - Weird\n",
      "42 - Not Weird\n",
      "43 - Weird\n",
      "44 - Not Weird\n",
      "45 - Weird\n",
      "46 - Not Weird\n",
      "47 - Weird\n",
      "48 - Not Weird\n",
      "49 - Weird\n",
      "50 - Not Weird\n",
      "51 - Weird\n",
      "52 - Not Weird\n",
      "53 - Weird\n",
      "54 - Not Weird\n",
      "55 - Weird\n",
      "56 - Not Weird\n",
      "57 - Weird\n",
      "58 - Not Weird\n",
      "59 - Weird\n",
      "60 - Not Weird\n",
      "61 - Weird\n",
      "62 - Not Weird\n",
      "63 - Weird\n",
      "64 - Not Weird\n",
      "65 - Weird\n",
      "66 - Not Weird\n",
      "67 - Weird\n",
      "68 - Not Weird\n",
      "69 - Weird\n",
      "70 - Not Weird\n",
      "71 - Weird\n",
      "72 - Not Weird\n",
      "73 - Weird\n",
      "74 - Not Weird\n",
      "75 - Weird\n",
      "76 - Not Weird\n",
      "77 - Weird\n",
      "78 - Not Weird\n",
      "79 - Weird\n",
      "80 - Not Weird\n",
      "81 - Weird\n",
      "82 - Not Weird\n",
      "83 - Weird\n",
      "84 - Not Weird\n",
      "85 - Weird\n",
      "86 - Not Weird\n",
      "87 - Weird\n",
      "88 - Not Weird\n",
      "89 - Weird\n",
      "90 - Not Weird\n",
      "91 - Weird\n",
      "92 - Not Weird\n",
      "93 - Weird\n",
      "94 - Not Weird\n",
      "95 - Weird\n",
      "96 - Not Weird\n",
      "97 - Weird\n",
      "98 - Not Weird\n",
      "99 - Weird\n",
      "100 - Not Weird\n"
     ]
    }
   ],
   "source": [
    "arr = np.array(range(100)) + 1\n",
    "for i in arr:\n",
    "    print(str(i) + \" - \" + py_if_else(i))"
   ]
  },
  {
   "cell_type": "markdown",
   "metadata": {},
   "source": [
    "## Task\n",
    "### is a leap year"
   ]
  },
  {
   "cell_type": "code",
   "execution_count": 5,
   "metadata": {},
   "outputs": [],
   "source": [
    "def determine_leapyr(year):\n",
    "    if year % 4 == 0:\n",
    "        if year % 100 == 0:\n",
    "            if year % 400 == 0:\n",
    "                return(True)\n",
    "            else:\n",
    "                return(False)\n",
    "        else:\n",
    "            return(True)\n",
    "    if year % 4 != 0:\n",
    "        return(False)"
   ]
  },
  {
   "cell_type": "code",
   "execution_count": 6,
   "metadata": {},
   "outputs": [
    {
     "data": {
      "text/plain": [
       "False"
      ]
     },
     "execution_count": 6,
     "metadata": {},
     "output_type": "execute_result"
    }
   ],
   "source": [
    "determine_leapyr(1800)"
   ]
  },
  {
   "cell_type": "code",
   "execution_count": null,
   "metadata": {},
   "outputs": [],
   "source": []
  },
  {
   "cell_type": "code",
   "execution_count": 7,
   "metadata": {},
   "outputs": [
    {
     "data": {
      "text/plain": [
       "'1234'"
      ]
     },
     "execution_count": 7,
     "metadata": {},
     "output_type": "execute_result"
    }
   ],
   "source": [
    "output = \"\"\n",
    "n = 4\n",
    "iter = 1\n",
    "while iter < (n + 1):\n",
    "    output = output + str(iter)\n",
    "    iter = iter + 1\n",
    "\n",
    "output"
   ]
  },
  {
   "cell_type": "markdown",
   "metadata": {},
   "source": [
    "## List Comprehensions\n",
    "### tasks all 3D combinations not equal to n"
   ]
  },
  {
   "cell_type": "code",
   "execution_count": 8,
   "metadata": {},
   "outputs": [],
   "source": [
    "x = 1\n",
    "y = 1\n",
    "z = 2\n",
    "n = 3"
   ]
  },
  {
   "cell_type": "code",
   "execution_count": 9,
   "metadata": {},
   "outputs": [],
   "source": [
    "all_coords = [[i, j, k] for i in range((x+1)) for j in range((y+1)) for k in range((z+1))]"
   ]
  },
  {
   "cell_type": "code",
   "execution_count": 10,
   "metadata": {},
   "outputs": [],
   "source": [
    "all_sums = list(map(lambda x: sum(x), all_coords))"
   ]
  },
  {
   "cell_type": "code",
   "execution_count": 11,
   "metadata": {},
   "outputs": [],
   "source": [
    "ids = [i for i, x in enumerate(all_sums) if x != n]"
   ]
  },
  {
   "cell_type": "code",
   "execution_count": 12,
   "metadata": {},
   "outputs": [
    {
     "data": {
      "text/plain": [
       "[[0, 0, 0],\n",
       " [0, 0, 1],\n",
       " [0, 0, 2],\n",
       " [0, 1, 0],\n",
       " [0, 1, 1],\n",
       " [1, 0, 0],\n",
       " [1, 0, 1],\n",
       " [1, 1, 0],\n",
       " [1, 1, 2]]"
      ]
     },
     "execution_count": 12,
     "metadata": {},
     "output_type": "execute_result"
    }
   ],
   "source": [
    "[all_coords[i] for i in ids]"
   ]
  },
  {
   "cell_type": "markdown",
   "metadata": {},
   "source": [
    "## Task - Find runner-up score\n",
    "### given score sheet, find score of runner-up"
   ]
  },
  {
   "cell_type": "code",
   "execution_count": 13,
   "metadata": {},
   "outputs": [],
   "source": [
    "n = 5\n",
    "arr = list(map(int, \"2 3 6 6 5\".split()))"
   ]
  },
  {
   "cell_type": "code",
   "execution_count": 14,
   "metadata": {},
   "outputs": [
    {
     "name": "stdout",
     "output_type": "stream",
     "text": [
      "5\n"
     ]
    }
   ],
   "source": [
    "found_max = max(arr)\n",
    "non_winners = [x for x in arr if x < found_max]\n",
    "output_max = max(non_winners)\n",
    "print(output_max)"
   ]
  },
  {
   "cell_type": "markdown",
   "metadata": {},
   "source": [
    "## Task - nested scores"
   ]
  },
  {
   "cell_type": "code",
   "execution_count": 15,
   "metadata": {},
   "outputs": [],
   "source": [
    "iters = [i for i in range(5*2) if (i % 2) == 0]"
   ]
  },
  {
   "cell_type": "code",
   "execution_count": 16,
   "metadata": {},
   "outputs": [
    {
     "data": {
      "text/plain": [
       "[0, 2, 4, 6, 8]"
      ]
     },
     "execution_count": 16,
     "metadata": {},
     "output_type": "execute_result"
    }
   ],
   "source": [
    "list(range(10))[0:10:2]"
   ]
  },
  {
   "cell_type": "code",
   "execution_count": 17,
   "metadata": {},
   "outputs": [],
   "source": [
    "records = [['Harry', 37.21], ['Berry', 37.21], ['Tina', 37.2], ['Akriti', 41.0], ['Harsh', 39.0]]"
   ]
  },
  {
   "cell_type": "code",
   "execution_count": 18,
   "metadata": {},
   "outputs": [
    {
     "data": {
      "text/plain": [
       "37.2"
      ]
     },
     "execution_count": 18,
     "metadata": {},
     "output_type": "execute_result"
    }
   ],
   "source": [
    "top_score = min(list(map(lambda x: x[1],records)))\n",
    "top_score"
   ]
  },
  {
   "cell_type": "code",
   "execution_count": 19,
   "metadata": {},
   "outputs": [
    {
     "data": {
      "text/plain": [
       "[['Harry', 37.21], ['Berry', 37.21], ['Akriti', 41.0], ['Harsh', 39.0]]"
      ]
     },
     "execution_count": 19,
     "metadata": {},
     "output_type": "execute_result"
    }
   ],
   "source": [
    "others = [x for x in records if x[1] > top_score]\n",
    "others"
   ]
  },
  {
   "cell_type": "code",
   "execution_count": 20,
   "metadata": {},
   "outputs": [
    {
     "data": {
      "text/plain": [
       "37.21"
      ]
     },
     "execution_count": 20,
     "metadata": {},
     "output_type": "execute_result"
    }
   ],
   "source": [
    "next_score = min(list(map(lambda x: x[1], others)))\n",
    "next_score"
   ]
  },
  {
   "cell_type": "code",
   "execution_count": 21,
   "metadata": {},
   "outputs": [
    {
     "data": {
      "text/plain": [
       "[['Harry', 37.21], ['Berry', 37.21]]"
      ]
     },
     "execution_count": 21,
     "metadata": {},
     "output_type": "execute_result"
    }
   ],
   "source": [
    "students = [x for x in others if x[1] == next_score]\n",
    "students"
   ]
  },
  {
   "cell_type": "code",
   "execution_count": 22,
   "metadata": {},
   "outputs": [
    {
     "data": {
      "text/plain": [
       "['Harry', 'Berry']"
      ]
     },
     "execution_count": 22,
     "metadata": {},
     "output_type": "execute_result"
    }
   ],
   "source": [
    "nms = list(map(lambda x: x[0], students))\n",
    "nms"
   ]
  },
  {
   "cell_type": "code",
   "execution_count": 23,
   "metadata": {},
   "outputs": [
    {
     "data": {
      "text/plain": [
       "['Berry', 'Harry']"
      ]
     },
     "execution_count": 23,
     "metadata": {},
     "output_type": "execute_result"
    }
   ],
   "source": [
    "sorted(nms)"
   ]
  },
  {
   "cell_type": "markdown",
   "metadata": {},
   "source": [
    "### Task - finding the percentage"
   ]
  },
  {
   "cell_type": "code",
   "execution_count": 24,
   "metadata": {},
   "outputs": [],
   "source": [
    "n = 3\n",
    "student_marks = {\n",
    "    'Krishna': [67, 68, 69],\n",
    "    'Arjun': [70, 98, 63],\n",
    "    'Malika': [52, 56, 60]\n",
    "}\n",
    "query_name = 'Malika'"
   ]
  },
  {
   "cell_type": "code",
   "execution_count": 25,
   "metadata": {},
   "outputs": [],
   "source": [
    "ids = [i for i, x in enumerate(student_marks) if x == query_name][0]"
   ]
  },
  {
   "cell_type": "code",
   "execution_count": 26,
   "metadata": {},
   "outputs": [
    {
     "data": {
      "text/plain": [
       "'56.00'"
      ]
     },
     "execution_count": 26,
     "metadata": {},
     "output_type": "execute_result"
    }
   ],
   "source": [
    "arr = student_marks[query_name]\n",
    "'{:.2f}'.format(sum(arr)/len(arr))"
   ]
  },
  {
   "cell_type": "markdown",
   "metadata": {},
   "source": [
    "## Task -- Matrix Script"
   ]
  },
  {
   "cell_type": "code",
   "execution_count": 27,
   "metadata": {},
   "outputs": [],
   "source": [
    "import math\n",
    "import os\n",
    "import random\n",
    "import re\n",
    "import sys"
   ]
  },
  {
   "cell_type": "code",
   "execution_count": 28,
   "metadata": {},
   "outputs": [
    {
     "data": {
      "text/plain": [
       "['# ', ' @']"
      ]
     },
     "execution_count": 28,
     "metadata": {},
     "output_type": "execute_result"
    }
   ],
   "source": [
    "n = 2\n",
    "m = 2\n",
    "matrix = ['# ', ' @']\n",
    "matrix"
   ]
  },
  {
   "cell_type": "code",
   "execution_count": 29,
   "metadata": {},
   "outputs": [
    {
     "data": {
      "text/plain": [
       "'@'"
      ]
     },
     "execution_count": 29,
     "metadata": {},
     "output_type": "execute_result"
    }
   ],
   "source": [
    "matrix[1][1]"
   ]
  },
  {
   "cell_type": "code",
   "execution_count": 30,
   "metadata": {},
   "outputs": [],
   "source": [
    "flat_list = []\n",
    "for i in range(len(matrix)):\n",
    "    tmp = []\n",
    "    for j in range(len(matrix[i])):\n",
    "        tmp.append(matrix[i][j])\n",
    "    flat_list.append(tmp)"
   ]
  },
  {
   "cell_type": "code",
   "execution_count": 31,
   "metadata": {},
   "outputs": [],
   "source": [
    "output = \"\"\n",
    "for i in range(m):\n",
    "    for j in range(n):\n",
    "        output = output + matrix[j][i]"
   ]
  },
  {
   "cell_type": "code",
   "execution_count": 32,
   "metadata": {},
   "outputs": [
    {
     "data": {
      "text/plain": [
       "'#  @'"
      ]
     },
     "execution_count": 32,
     "metadata": {},
     "output_type": "execute_result"
    }
   ],
   "source": [
    "output"
   ]
  },
  {
   "cell_type": "code",
   "execution_count": 33,
   "metadata": {},
   "outputs": [],
   "source": [
    "headstr = \"\"\n",
    "alnum_check = False\n",
    "tail_id = 0\n",
    "while (alnum_check == False) & (tail_id < len(output)):\n",
    "    headstr = headstr + output[tail_id]\n",
    "    alnum_check = output[tail_id].isalnum()\n",
    "    tail_id = tail_id + 1"
   ]
  },
  {
   "cell_type": "code",
   "execution_count": 34,
   "metadata": {},
   "outputs": [
    {
     "data": {
      "text/plain": [
       "'#  '"
      ]
     },
     "execution_count": 34,
     "metadata": {},
     "output_type": "execute_result"
    }
   ],
   "source": [
    "headstr = headstr[:(len(headstr) - 1)]\n",
    "headstr"
   ]
  },
  {
   "cell_type": "code",
   "execution_count": 35,
   "metadata": {},
   "outputs": [],
   "source": [
    "tailstr = \"\"\n",
    "alnum_check = False\n",
    "tail_id = len(output) - 1\n",
    "while (alnum_check == False) & (tail_id > -1):\n",
    "    tailstr = tailstr + output[tail_id]\n",
    "    alnum_check = output[tail_id].isalnum()\n",
    "    tail_id = tail_id - 1"
   ]
  },
  {
   "cell_type": "code",
   "execution_count": 36,
   "metadata": {},
   "outputs": [
    {
     "data": {
      "text/plain": [
       "'  @'"
      ]
     },
     "execution_count": 36,
     "metadata": {},
     "output_type": "execute_result"
    }
   ],
   "source": [
    "tailstr = tailstr[::-1]\n",
    "tailstr = tailstr[1:(len(tailstr))]\n",
    "tailstr"
   ]
  },
  {
   "cell_type": "code",
   "execution_count": 37,
   "metadata": {},
   "outputs": [
    {
     "data": {
      "text/plain": [
       "['!', '@', '#', '$', '%', '&']"
      ]
     },
     "execution_count": 37,
     "metadata": {},
     "output_type": "execute_result"
    }
   ],
   "source": [
    "syms = [\"!\",\"@\",\"#\",\"$\",\"%\",\"&\"]\n",
    "syms"
   ]
  },
  {
   "cell_type": "code",
   "execution_count": 38,
   "metadata": {},
   "outputs": [],
   "source": [
    "for sym in syms:\n",
    "    output = output.replace(sym,\" \").replace(\"  \",\" \")"
   ]
  },
  {
   "cell_type": "code",
   "execution_count": 39,
   "metadata": {},
   "outputs": [],
   "source": [
    "output = output.strip()"
   ]
  },
  {
   "cell_type": "code",
   "execution_count": 40,
   "metadata": {},
   "outputs": [
    {
     "data": {
      "text/plain": [
       "''"
      ]
     },
     "execution_count": 40,
     "metadata": {},
     "output_type": "execute_result"
    }
   ],
   "source": [
    "output"
   ]
  },
  {
   "cell_type": "code",
   "execution_count": 41,
   "metadata": {
    "scrolled": true
   },
   "outputs": [
    {
     "data": {
      "text/plain": [
       "'#  @'"
      ]
     },
     "execution_count": 41,
     "metadata": {},
     "output_type": "execute_result"
    }
   ],
   "source": [
    "finaloutput = headstr + output + tailstr\n",
    "finaloutput = finaloutput.replace(\"  \",\" \")\n",
    "finaloutput"
   ]
  },
  {
   "cell_type": "markdown",
   "metadata": {},
   "source": [
    "## Task - Find a string"
   ]
  },
  {
   "cell_type": "code",
   "execution_count": 42,
   "metadata": {},
   "outputs": [],
   "source": [
    "string = \"ABCDCDC\"\n",
    "sub_string = \"CDC\""
   ]
  },
  {
   "cell_type": "code",
   "execution_count": 43,
   "metadata": {},
   "outputs": [
    {
     "data": {
      "text/plain": [
       "2"
      ]
     },
     "execution_count": 43,
     "metadata": {},
     "output_type": "execute_result"
    }
   ],
   "source": [
    "l = len(sub_string) - 1\n",
    "l"
   ]
  },
  {
   "cell_type": "code",
   "execution_count": 44,
   "metadata": {},
   "outputs": [
    {
     "data": {
      "text/plain": [
       "[2, 3, 4, 5, 6]"
      ]
     },
     "execution_count": 44,
     "metadata": {},
     "output_type": "execute_result"
    }
   ],
   "source": [
    "iters = list(range(len(string)))[(len(sub_string)-1):]\n",
    "iters"
   ]
  },
  {
   "cell_type": "code",
   "execution_count": 45,
   "metadata": {},
   "outputs": [],
   "source": [
    "count = 0\n",
    "for i in iters:\n",
    "    if string[(i-l):(i+1)] == sub_string:\n",
    "        count = count + 1"
   ]
  },
  {
   "cell_type": "code",
   "execution_count": 46,
   "metadata": {},
   "outputs": [
    {
     "data": {
      "text/plain": [
       "'ABC'"
      ]
     },
     "execution_count": 46,
     "metadata": {},
     "output_type": "execute_result"
    }
   ],
   "source": [
    "i=3\n",
    "string[(i-l-1):(i)]"
   ]
  },
  {
   "cell_type": "code",
   "execution_count": 47,
   "metadata": {},
   "outputs": [
    {
     "data": {
      "text/plain": [
       "2"
      ]
     },
     "execution_count": 47,
     "metadata": {},
     "output_type": "execute_result"
    }
   ],
   "source": [
    "count"
   ]
  },
  {
   "cell_type": "markdown",
   "metadata": {},
   "source": [
    "## Task - String Validators"
   ]
  },
  {
   "cell_type": "code",
   "execution_count": 48,
   "metadata": {},
   "outputs": [],
   "source": [
    "s = 'qA2'"
   ]
  },
  {
   "cell_type": "code",
   "execution_count": 49,
   "metadata": {},
   "outputs": [],
   "source": [
    "s2 = [x for x in s]"
   ]
  },
  {
   "cell_type": "code",
   "execution_count": 50,
   "metadata": {},
   "outputs": [
    {
     "data": {
      "text/plain": [
       "True"
      ]
     },
     "execution_count": 50,
     "metadata": {},
     "output_type": "execute_result"
    }
   ],
   "source": [
    "max(list(map(lambda x: x.isalnum(), s2)))"
   ]
  },
  {
   "cell_type": "code",
   "execution_count": 51,
   "metadata": {},
   "outputs": [
    {
     "data": {
      "text/plain": [
       "[1]"
      ]
     },
     "execution_count": 51,
     "metadata": {},
     "output_type": "execute_result"
    }
   ],
   "source": [
    "test = [1,2]\n",
    "test.insert(1,3)\n",
    "test.remove(3)\n",
    "test.pop()\n",
    "test"
   ]
  },
  {
   "cell_type": "code",
   "execution_count": 52,
   "metadata": {},
   "outputs": [
    {
     "data": {
      "text/plain": [
       "{'4', '5', '7', '9'}"
      ]
     },
     "execution_count": 52,
     "metadata": {},
     "output_type": "execute_result"
    }
   ],
   "source": [
    "student_set = set(\"1 2 3 4 5 6 7 8 9\".split(\" \")).difference(set(\"10 1 2 3 11 21 55 6 8\".split(\" \")))\n",
    "student_set"
   ]
  },
  {
   "cell_type": "code",
   "execution_count": 53,
   "metadata": {},
   "outputs": [
    {
     "data": {
      "text/plain": [
       "[0, 1, 2, 3]"
      ]
     },
     "execution_count": 53,
     "metadata": {},
     "output_type": "execute_result"
    }
   ],
   "source": [
    "list(range(4))"
   ]
  },
  {
   "cell_type": "code",
   "execution_count": 54,
   "metadata": {
    "scrolled": true
   },
   "outputs": [
    {
     "data": {
      "text/plain": [
       "0"
      ]
     },
     "execution_count": 54,
     "metadata": {},
     "output_type": "execute_result"
    }
   ],
   "source": [
    "test = set()\n",
    "test.union(\"1 2 3 4 5 6 7 8 9\".split(\" \")).union(\"10 1 2 3 11 21 55 6 8\".split(\" \"))\n",
    "len(test)"
   ]
  },
  {
   "cell_type": "code",
   "execution_count": 55,
   "metadata": {},
   "outputs": [],
   "source": [
    "l = int(\"16\")\n",
    "a_set = set(\"1 2 3 4 5 6 7 8 9 10 11 12 13 14 24 52\".split(\" \"))\n",
    "n = int(\"4\")"
   ]
  },
  {
   "cell_type": "code",
   "execution_count": 56,
   "metadata": {},
   "outputs": [
    {
     "data": {
      "text/plain": [
       "181"
      ]
     },
     "execution_count": 56,
     "metadata": {},
     "output_type": "execute_result"
    }
   ],
   "source": [
    "sum(list(map(lambda x: int(x), a_set)))"
   ]
  },
  {
   "cell_type": "code",
   "execution_count": 57,
   "metadata": {},
   "outputs": [],
   "source": [
    "cmd = \"difference_update 7\".split(\" \")\n",
    "b_set = set(\"11 22 35 55 58 62 66\".split(\" \"))\n",
    "if cmd[0] == \"update\":\n",
    "    a_set.update(b_set)\n",
    "elif cmd[0] == \"intersection_update\":\n",
    "    a_set.intersection_update(b_set)\n",
    "elif cmd[0] == \"difference_update\":\n",
    "    a_set.difference_update(b_set)\n",
    "elif cmd[0] == \"symmetric_difference_update\":\n",
    "    a_set.symmetric_difference_update(b_set)\n",
    "else:\n",
    "    print(\"unkown error\")"
   ]
  },
  {
   "cell_type": "code",
   "execution_count": 58,
   "metadata": {},
   "outputs": [
    {
     "data": {
      "text/plain": [
       "{'1', '2', '3', '4', '5', '6', '8'}"
      ]
     },
     "execution_count": 58,
     "metadata": {},
     "output_type": "execute_result"
    }
   ],
   "source": [
    "group_size = 5\n",
    "rm_list = \"1 2 3 6 5 4 4 2 5 3 6 1 6 5 3 2 4 1 2 5 1 4 3 6 8 4 3 1 5 6 2\".split(\" \")\n",
    "rm_set = set(rm_list)\n",
    "#rm_set\n",
    "max(rm_list)\n",
    "rm_max = int(max(rm_list))\n",
    "rm_list[0]\n",
    "captains_rm = 0\n",
    "rm_list_sorted = sorted(rm_list)\n",
    "rm_set"
   ]
  },
  {
   "cell_type": "code",
   "execution_count": 59,
   "metadata": {},
   "outputs": [
    {
     "data": {
      "text/plain": [
       "['1', '2', '3', '4', '5', '6', '8']"
      ]
     },
     "execution_count": 59,
     "metadata": {},
     "output_type": "execute_result"
    }
   ],
   "source": [
    "found = False\n",
    "working_list = rm_list_sorted\n",
    "set_counter = 0\n",
    "rm_setlist = sorted(list(rm_set))\n",
    "working_list[:3]\n",
    "rm_setlist"
   ]
  },
  {
   "cell_type": "code",
   "execution_count": 60,
   "metadata": {},
   "outputs": [],
   "source": [
    "# while found == False:\n",
    "#     num = rm_setlist[set_counter]\n",
    "#     tmp = 0\n",
    "#     list_counter = 0\n",
    "#     search_stop = False\n",
    "#     while search_stop == False:\n",
    "#         if working_list[list_counter] == num:\n",
    "#             tmp = tmp + 1\n",
    "#         if tmp > 1:\n",
    "#             while working_list[0] == num:\n",
    "#                 working_list = working_list.remove(num)\n",
    "#             search_stop = True\n",
    "#         list_counter = list_counter + 1\n",
    "#     set_counter = set_counter + 1"
   ]
  },
  {
   "cell_type": "code",
   "execution_count": 61,
   "metadata": {},
   "outputs": [],
   "source": [
    "num = rm_setlist[set_counter]\n",
    "tmp = 0\n",
    "list_counter = 0\n",
    "search_stop = False\n",
    "working_list\n",
    "list(rm_set)\n",
    "captains_rm = 0"
   ]
  },
  {
   "cell_type": "code",
   "execution_count": 62,
   "metadata": {},
   "outputs": [
    {
     "data": {
      "text/plain": [
       "8"
      ]
     },
     "execution_count": 62,
     "metadata": {},
     "output_type": "execute_result"
    }
   ],
   "source": [
    "set_counter = 0\n",
    "is_found = False\n",
    "counter = 0\n",
    "while is_found == False:\n",
    "    num = rm_setlist[set_counter]\n",
    "    tmp = 0\n",
    "    while (tmp < 2) & (counter < len(rm_list)):\n",
    "        #print(num)\n",
    "        if int(rm_list_sorted[counter]) == (int(num)):\n",
    "            tmp = tmp + 1\n",
    "        counter = counter + 1\n",
    "    if tmp == 1:\n",
    "        captains_rm = (int(num))\n",
    "        is_found = True\n",
    "    set_counter = set_counter + 1\n",
    "    \n",
    "captains_rm"
   ]
  },
  {
   "cell_type": "code",
   "execution_count": 63,
   "metadata": {},
   "outputs": [
    {
     "data": {
      "text/plain": [
       "25"
      ]
     },
     "execution_count": 63,
     "metadata": {},
     "output_type": "execute_result"
    }
   ],
   "source": [
    "len(\"HHHHHHHHHHHHHHHHHHHHHHHHH\")"
   ]
  },
  {
   "cell_type": "code",
   "execution_count": 64,
   "metadata": {},
   "outputs": [],
   "source": [
    "vlist = ['a','e','i','o','u']"
   ]
  },
  {
   "cell_type": "code",
   "execution_count": 92,
   "metadata": {},
   "outputs": [
    {
     "data": {
      "text/plain": [
       "False"
      ]
     },
     "execution_count": 92,
     "metadata": {},
     "output_type": "execute_result"
    }
   ],
   "source": [
    "list(\"BANANA\".lower()) == vlist"
   ]
  },
  {
   "cell_type": "code",
   "execution_count": 93,
   "metadata": {},
   "outputs": [],
   "source": [
    "s = \"BANANA\""
   ]
  },
  {
   "cell_type": "code",
   "execution_count": null,
   "metadata": {},
   "outputs": [],
   "source": []
  },
  {
   "cell_type": "code",
   "execution_count": 67,
   "metadata": {},
   "outputs": [],
   "source": [
    "# thickness = int(5) #This must be an odd number\n",
    "# c = 'H'\n",
    "\n",
    "# #Top Cone\n",
    "# for i in range(thickness):\n",
    "#     print((c*i).______(thickness-1)+c+(c*i).______(thickness-1))\n",
    "\n",
    "# #Top Pillars\n",
    "# for i in range(thickness+1):\n",
    "#     print((c*thickness).______(thickness*2)+(c*thickness).______(thickness*6))\n",
    "\n",
    "# #Middle Belt\n",
    "# for i in range((thickness+1)//2):\n",
    "#     print((c*thickness*5).______(thickness*6))    \n",
    "\n",
    "# #Bottom Pillars\n",
    "# for i in range(thickness+1):\n",
    "#     print((c*thickness).______(thickness*2)+(c*thickness).______(thickness*6))    \n",
    "\n",
    "# #Bottom Cone\n",
    "# for i in range(thickness):\n",
    "#     print(((c*(thickness-i-1)).______(thickness)+c+(c*(thickness-i-1)).______(thickness)).______(thickness*6))"
   ]
  },
  {
   "cell_type": "code",
   "execution_count": 85,
   "metadata": {},
   "outputs": [
    {
     "data": {
      "text/plain": [
       "[1, 2, 3, 4, 5, 6, 7, 8, 9]"
      ]
     },
     "execution_count": 85,
     "metadata": {},
     "output_type": "execute_result"
    }
   ],
   "source": [
    "s = \"chris alan\"\n",
    "list(range(len(s)))[1:]"
   ]
  },
  {
   "cell_type": "code",
   "execution_count": 90,
   "metadata": {},
   "outputs": [],
   "source": [
    "def solve(s):\n",
    "    slist = list(s)\n",
    "    output = slist[0].upper()\n",
    "    for i in list(range(len(s)))[1:]:\n",
    "        lastl = slist[(i-1)]\n",
    "        if lastl == \" \":\n",
    "            output = output + slist[i].upper()\n",
    "        else:\n",
    "            output = output + slist[i]\n",
    "    return(output)"
   ]
  },
  {
   "cell_type": "code",
   "execution_count": 91,
   "metadata": {},
   "outputs": [
    {
     "data": {
      "text/plain": [
       "'Chris Alan'"
      ]
     },
     "execution_count": 91,
     "metadata": {},
     "output_type": "execute_result"
    }
   ],
   "source": [
    "solve(s)"
   ]
  },
  {
   "cell_type": "code",
   "execution_count": null,
   "metadata": {},
   "outputs": [],
   "source": []
  }
 ],
 "metadata": {
  "kernelspec": {
   "display_name": "Python 3",
   "language": "python",
   "name": "python3"
  },
  "language_info": {
   "codemirror_mode": {
    "name": "ipython",
    "version": 3
   },
   "file_extension": ".py",
   "mimetype": "text/x-python",
   "name": "python",
   "nbconvert_exporter": "python",
   "pygments_lexer": "ipython3",
   "version": "3.7.4"
  }
 },
 "nbformat": 4,
 "nbformat_minor": 4
}
