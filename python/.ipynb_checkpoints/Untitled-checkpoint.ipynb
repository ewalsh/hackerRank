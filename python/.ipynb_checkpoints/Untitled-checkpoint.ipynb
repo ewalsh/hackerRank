{
 "cells": [
  {
   "cell_type": "code",
   "execution_count": 1,
   "metadata": {},
   "outputs": [],
   "source": [
    "marketing_expenditure = [300000, 200000, 400000, 300000, 100000]\n",
    "units_sold = [60000, 50000, 90000, 80000, 30000]\n",
    "desired_units_sold = 60000"
   ]
  },
  {
   "cell_type": "code",
   "execution_count": 37,
   "metadata": {},
   "outputs": [],
   "source": [
    "import numpy as np\n",
    "import pandas as pd\n",
    "from sklearn import linear_model\n",
    "import matplotlib.pyplot as plt"
   ]
  },
  {
   "cell_type": "code",
   "execution_count": 29,
   "metadata": {},
   "outputs": [
    {
     "data": {
      "text/plain": [
       "<matplotlib.collections.PathCollection at 0x180188aa3c8>"
      ]
     },
     "execution_count": 29,
     "metadata": {},
     "output_type": "execute_result"
    },
    {
     "data": {
      "image/png": "[encoded data removed]",
      "text/plain": [
       "<Figure size 432x288 with 1 Axes>"
      ]
     },
     "metadata": {
      "needs_background": "light"
     },
     "output_type": "display_data"
    }
   ],
   "source": [
    "plt.scatter(units_sold,marketing_expenditure)"
   ]
  },
  {
   "cell_type": "code",
   "execution_count": 36,
   "metadata": {},
   "outputs": [
    {
     "data": {
      "text/plain": [
       "250877.19298245618"
      ]
     },
     "execution_count": 36,
     "metadata": {},
     "output_type": "execute_result"
    }
   ],
   "source": [
    "lm = linear_model.LinearRegression(fit_intercept=False)\n",
    "lmdata = []\n",
    "for dat in units_sold:\n",
    "    lmdata.append([1,dat])\n",
    "    \n",
    "mod = lm.fit(lmdata, marketing_expenditure)\n",
    "mod.predict([[1,60000],[1,0]])[0]"
   ]
  },
  {
   "cell_type": "code",
   "execution_count": 40,
   "metadata": {},
   "outputs": [
    {
     "data": {
      "text/html": [
       "<div>\n",
       "<style scoped>\n",
       "    .dataframe tbody tr th:only-of-type {\n",
       "        vertical-align: middle;\n",
       "    }\n",
       "\n",
       "    .dataframe tbody tr th {\n",
       "        vertical-align: top;\n",
       "    }\n",
       "\n",
       "    .dataframe thead th {\n",
       "        text-align: right;\n",
       "    }\n",
       "</style>\n",
       "<table border=\"1\" class=\"dataframe\">\n",
       "  <thead>\n",
       "    <tr style=\"text-align: right;\">\n",
       "      <th></th>\n",
       "      <th>marketing_expenditure</th>\n",
       "      <th>units_sold</th>\n",
       "    </tr>\n",
       "  </thead>\n",
       "  <tbody>\n",
       "    <tr>\n",
       "      <th>0</th>\n",
       "      <td>300000</td>\n",
       "      <td>60000</td>\n",
       "    </tr>\n",
       "    <tr>\n",
       "      <th>1</th>\n",
       "      <td>200000</td>\n",
       "      <td>50000</td>\n",
       "    </tr>\n",
       "    <tr>\n",
       "      <th>2</th>\n",
       "      <td>400000</td>\n",
       "      <td>90000</td>\n",
       "    </tr>\n",
       "    <tr>\n",
       "      <th>3</th>\n",
       "      <td>300000</td>\n",
       "      <td>80000</td>\n",
       "    </tr>\n",
       "    <tr>\n",
       "      <th>4</th>\n",
       "      <td>100000</td>\n",
       "      <td>30000</td>\n",
       "    </tr>\n",
       "  </tbody>\n",
       "</table>\n",
       "</div>"
      ],
      "text/plain": [
       "   marketing_expenditure  units_sold\n",
       "0                 300000       60000\n",
       "1                 200000       50000\n",
       "2                 400000       90000\n",
       "3                 300000       80000\n",
       "4                 100000       30000"
      ]
     },
     "execution_count": 40,
     "metadata": {},
     "output_type": "execute_result"
    }
   ],
   "source": [
    "df = pd.DataFrame({\n",
    "    'marketing_expenditure': marketing_expenditure,\n",
    "    'units_sold': units_sold\n",
    "})\n",
    "df"
   ]
  },
  {
   "cell_type": "code",
   "execution_count": 43,
   "metadata": {},
   "outputs": [
    {
     "data": {
      "text/html": [
       "<div>\n",
       "<style scoped>\n",
       "    .dataframe tbody tr th:only-of-type {\n",
       "        vertical-align: middle;\n",
       "    }\n",
       "\n",
       "    .dataframe tbody tr th {\n",
       "        vertical-align: top;\n",
       "    }\n",
       "\n",
       "    .dataframe thead th {\n",
       "        text-align: right;\n",
       "    }\n",
       "</style>\n",
       "<table border=\"1\" class=\"dataframe\">\n",
       "  <thead>\n",
       "    <tr style=\"text-align: right;\">\n",
       "      <th></th>\n",
       "      <th>units_sold</th>\n",
       "    </tr>\n",
       "    <tr>\n",
       "      <th>marketing_expenditure</th>\n",
       "      <th></th>\n",
       "    </tr>\n",
       "  </thead>\n",
       "  <tbody>\n",
       "    <tr>\n",
       "      <th>100000</th>\n",
       "      <td>30000</td>\n",
       "    </tr>\n",
       "    <tr>\n",
       "      <th>200000</th>\n",
       "      <td>50000</td>\n",
       "    </tr>\n",
       "    <tr>\n",
       "      <th>300000</th>\n",
       "      <td>70000</td>\n",
       "    </tr>\n",
       "    <tr>\n",
       "      <th>400000</th>\n",
       "      <td>90000</td>\n",
       "    </tr>\n",
       "  </tbody>\n",
       "</table>\n",
       "</div>"
      ],
      "text/plain": [
       "                       units_sold\n",
       "marketing_expenditure            \n",
       "100000                      30000\n",
       "200000                      50000\n",
       "300000                      70000\n",
       "400000                      90000"
      ]
     },
     "execution_count": 43,
     "metadata": {},
     "output_type": "execute_result"
    }
   ],
   "source": [
    "df1 = df.groupby('marketing_expenditure').mean()\n",
    "df1"
   ]
  },
  {
   "cell_type": "code",
   "execution_count": 49,
   "metadata": {},
   "outputs": [
    {
     "data": {
      "text/plain": [
       "<matplotlib.collections.PathCollection at 0x1801b7f9708>"
      ]
     },
     "execution_count": 49,
     "metadata": {},
     "output_type": "execute_result"
    },
    {
     "data": {
      "image/png": "[encoded data removed]",
      "text/plain": [
       "<Figure size 432x288 with 1 Axes>"
      ]
     },
     "metadata": {
      "needs_background": "light"
     },
     "output_type": "display_data"
    }
   ],
   "source": [
    "plt.scatter(np.array(df1.iloc[:,0]),np.array(df1.index))"
   ]
  },
  {
   "cell_type": "code",
   "execution_count": 50,
   "metadata": {},
   "outputs": [
    {
     "data": {
      "text/plain": [
       "array([30000, 50000, 70000, 90000], dtype=int64)"
      ]
     },
     "execution_count": 50,
     "metadata": {},
     "output_type": "execute_result"
    }
   ],
   "source": [
    "np.array(df1.iloc[:,0])"
   ]
  },
  {
   "cell_type": "code",
   "execution_count": 26,
   "metadata": {},
   "outputs": [
    {
     "data": {
      "text/plain": [
       "[[300000, 60000],\n",
       " [200000, 50000],\n",
       " [400000, 90000],\n",
       " [300000, 80000],\n",
       " [100000, 30000]]"
      ]
     },
     "execution_count": 26,
     "metadata": {},
     "output_type": "execute_result"
    }
   ],
   "source": [
    "slope_data = []\n",
    "for i in range(len(units_sold)):\n",
    "    slope_data.append([marketing_expenditure[i],units_sold[i]])\n",
    "    \n",
    "slope_data"
   ]
  },
  {
   "cell_type": "code",
   "execution_count": 51,
   "metadata": {},
   "outputs": [
    {
     "data": {
      "text/plain": [
       "10.0"
      ]
     },
     "execution_count": 51,
     "metadata": {},
     "output_type": "execute_result"
    }
   ],
   "source": [
    "slopes = []\n",
    "sorted_data = np.sort(slope_data)\n",
    "for i in list(range(len(sorted_data)))[1:]:\n",
    "    xdiff = sorted_data[i,0] - sorted_data[(i-1),0]\n",
    "    ydiff = sorted_data[i,1] - sorted_data[(i-1),1]\n",
    "    slopes.append(ydiff/xdiff)\n",
    "    \n",
    "slopes\n",
    "import statistics\n",
    "statistics.mode(slopes)"
   ]
  },
  {
   "cell_type": "code",
   "execution_count": 52,
   "metadata": {},
   "outputs": [],
   "source": [
    "from scipy.interpolate import interp1d\n",
    "from scipy.signal import savgol_filter"
   ]
  },
  {
   "cell_type": "code",
   "execution_count": 60,
   "metadata": {},
   "outputs": [],
   "source": [
    "#xx = np.linspace(min(units_sold),max(units_sold), len(units_sold))\n",
    "#itp = interp1d(units_sold,marketing_expenditure, kind='linear')\n",
    "#window_size, poly_order = 2, 3\n",
    "#yy_sg = savgol_filter(itp(xx), window_size, poly_order)\n",
    "#yy_sg\n"
   ]
  },
  {
   "cell_type": "code",
   "execution_count": 63,
   "metadata": {},
   "outputs": [
    {
     "data": {
      "text/plain": [
       "array(300000.)"
      ]
     },
     "execution_count": 63,
     "metadata": {},
     "output_type": "execute_result"
    }
   ],
   "source": [
    "f = interp1d(units_sold, marketing_expenditure, kind='linear')\n",
    "f(60000)"
   ]
  },
  {
   "cell_type": "code",
   "execution_count": 79,
   "metadata": {},
   "outputs": [
    {
     "data": {
      "text/plain": [
       "[0, 2, 4, 6, 8]"
      ]
     },
     "execution_count": 79,
     "metadata": {},
     "output_type": "execute_result"
    }
   ],
   "source": [
    "sorted_list = [1, 3, 5, 7]\n",
    "len([x for x in sorted_list if x < 4])\n",
    "5//2\n",
    "list(range(0,10,2))"
   ]
  },
  {
   "cell_type": "markdown",
   "metadata": {},
   "source": [
    "### file owners"
   ]
  },
  {
   "cell_type": "code",
   "execution_count": 81,
   "metadata": {},
   "outputs": [
    {
     "data": {
      "text/plain": [
       "3"
      ]
     },
     "execution_count": 81,
     "metadata": {},
     "output_type": "execute_result"
    }
   ],
   "source": [
    "files = {\n",
    "        'Input.txt': 'Randy',\n",
    "        'Code.py': 'Stan',\n",
    "        'Output.txt': 'Randy'\n",
    "    }   \n",
    "len(files)"
   ]
  },
  {
   "cell_type": "code",
   "execution_count": 130,
   "metadata": {},
   "outputs": [
    {
     "data": {
      "text/plain": [
       "{'Randy': ['Input.txt', 'Output.txt'], 'Stan': ['Code.py']}"
      ]
     },
     "execution_count": 130,
     "metadata": {},
     "output_type": "execute_result"
    }
   ],
   "source": [
    "unms = list(set(list(files.values())))\n",
    "output = {}\n",
    "ids = list(map(lambda nm: nm == unms[0],list(files.values())))\n",
    "for nm in unms:\n",
    "    # make list\n",
    "    ids = list(map(lambda x: x == nm,list(files.values())))\n",
    "    tmp = []\n",
    "    for i in range(len(ids)):\n",
    "        if ids[i]:\n",
    "            tmp.append(list(files.keys())[i])\n",
    "        \n",
    "    output.update({nm: tmp})\n",
    "    \n",
    "output"
   ]
  },
  {
   "cell_type": "markdown",
   "metadata": {},
   "source": [
    "## data frame munge"
   ]
  },
  {
   "cell_type": "code",
   "execution_count": 233,
   "metadata": {},
   "outputs": [
    {
     "data": {
      "text/html": [
       "<div>\n",
       "<style scoped>\n",
       "    .dataframe tbody tr th:only-of-type {\n",
       "        vertical-align: middle;\n",
       "    }\n",
       "\n",
       "    .dataframe tbody tr th {\n",
       "        vertical-align: top;\n",
       "    }\n",
       "\n",
       "    .dataframe thead th {\n",
       "        text-align: right;\n",
       "    }\n",
       "</style>\n",
       "<table border=\"1\" class=\"dataframe\">\n",
       "  <thead>\n",
       "    <tr style=\"text-align: right;\">\n",
       "      <th></th>\n",
       "      <th>Id</th>\n",
       "      <th>Login</th>\n",
       "      <th>Password</th>\n",
       "    </tr>\n",
       "  </thead>\n",
       "  <tbody>\n",
       "    <tr>\n",
       "      <th>0</th>\n",
       "      <td>1</td>\n",
       "      <td>JohnDoe</td>\n",
       "      <td>987340123</td>\n",
       "    </tr>\n",
       "    <tr>\n",
       "      <th>1</th>\n",
       "      <td>2</td>\n",
       "      <td>AnnFranklin</td>\n",
       "      <td>187031122</td>\n",
       "    </tr>\n",
       "  </tbody>\n",
       "</table>\n",
       "</div>"
      ],
      "text/plain": [
       "   Id        Login   Password\n",
       "0   1      JohnDoe  987340123\n",
       "1   2  AnnFranklin  187031122"
      ]
     },
     "execution_count": 233,
     "metadata": {},
     "output_type": "execute_result"
    }
   ],
   "source": [
    "id_name_verified = pd.DataFrame([[1, \"JohnDoe\", True], [2, \"AnnFranklin\", False]], columns=[\"Id\", \"Login\", \"Verified\"])\n",
    "id_password = np.array([[1, 987340123], [2, 187031122]], np.int32)\n",
    "df = pd.DataFrame(id_password,columns=['Id',\"Password\"])\n",
    "df1 = pd.merge(id_name_verified, df, on=['Id','Id'])\n",
    "#df1.drop(columns=['Verified'],inplace=True)\n",
    "df1\n",
    "id_name_verified['Password'] = df1['Password']\n",
    "id_name_verified.drop(columns=['Verified'], inplace=True)\n",
    "id_name_verified"
   ]
  },
  {
   "cell_type": "markdown",
   "metadata": {},
   "source": [
    "### Classify"
   ]
  },
  {
   "cell_type": "code",
   "execution_count": 143,
   "metadata": {},
   "outputs": [],
   "source": [
    "import numpy as np\n",
    "from sklearn import datasets\n",
    "from sklearn.model_selection import train_test_split\n",
    "from sklearn import metrics\n",
    "from sklearn import linear_model\n",
    "from sklearn import preprocessing"
   ]
  },
  {
   "cell_type": "code",
   "execution_count": 144,
   "metadata": {},
   "outputs": [],
   "source": [
    "iris = datasets.load_iris()\n",
    "X_train, X_test, y_train, y_test = train_test_split(iris.data, iris.target,\n",
    "                                                    test_size=0.3, random_state=0)"
   ]
  },
  {
   "cell_type": "code",
   "execution_count": 149,
   "metadata": {},
   "outputs": [
    {
     "data": {
      "text/plain": [
       "(150, 4)"
      ]
     },
     "execution_count": 149,
     "metadata": {},
     "output_type": "execute_result"
    }
   ],
   "source": [
    "iris.data"
   ]
  },
  {
   "cell_type": "code",
   "execution_count": 163,
   "metadata": {},
   "outputs": [
    {
     "ename": "AttributeError",
     "evalue": "'numpy.ndarray' object has no attribute 'target'",
     "output_type": "error",
     "traceback": [
      "\u001b[1;31m---------------------------------------------------------------------------\u001b[0m",
      "\u001b[1;31mAttributeError\u001b[0m                            Traceback (most recent call last)",
      "\u001b[1;32m<ipython-input-163-86b65d013c0b>\u001b[0m in \u001b[0;36m<module>\u001b[1;34m\u001b[0m\n\u001b[0;32m      2\u001b[0m X_train, X_test, y_train, y_test = train_test_split(input_data, iris.target,\n\u001b[0;32m      3\u001b[0m                                                     test_size=0.3, random_state=0)\n\u001b[1;32m----> 4\u001b[1;33m \u001b[0minput_data\u001b[0m\u001b[1;33m.\u001b[0m\u001b[0mtarget\u001b[0m\u001b[1;33m\u001b[0m\u001b[1;33m\u001b[0m\u001b[0m\n\u001b[0m",
      "\u001b[1;31mAttributeError\u001b[0m: 'numpy.ndarray' object has no attribute 'target'"
     ]
    }
   ],
   "source": [
    "input_data = preprocessing.robust_scale(iris.data)\n",
    "X_train, X_test, y_train, y_test = train_test_split(input_data, iris.target,\n",
    "                                                    test_size=0.3, random_state=0)"
   ]
  },
  {
   "cell_type": "code",
   "execution_count": 164,
   "metadata": {},
   "outputs": [
    {
     "data": {
      "text/plain": [
       "0.9555555555555556"
      ]
     },
     "execution_count": 164,
     "metadata": {},
     "output_type": "execute_result"
    }
   ],
   "source": [
    "lm = linear_model.LogisticRegression(max_iter=1000)\n",
    "mod = lm.fit(X_train,y_train)\n",
    "preds = mod.predict(X_test)\n",
    "metrics.accuracy_score(y_test, preds)"
   ]
  },
  {
   "cell_type": "code",
   "execution_count": 166,
   "metadata": {},
   "outputs": [],
   "source": [
    "files = {\n",
    "        'Input.txt': 'Randy',\n",
    "        'Code.py': 'Stan',\n",
    "        'Output.txt': 'Randy'\n",
    "} "
   ]
  },
  {
   "cell_type": "code",
   "execution_count": 184,
   "metadata": {},
   "outputs": [
    {
     "data": {
      "text/plain": [
       "{'Randy': [['Input.txt'], ['Output.txt']], 'Stan': [['Code.py']]}"
      ]
     },
     "execution_count": 184,
     "metadata": {},
     "output_type": "execute_result"
    }
   ],
   "source": [
    "unms = np.unique(list(files.values()))\n",
    "#list(map(lambda x: x == unms[0],list(files.values())))\n",
    "output = {}\n",
    "for nm in unms:\n",
    "    # id names in dict\n",
    "    ids = [i for i, x in enumerate(list(files.values())) if x == nm]\n",
    "    # build list of files\n",
    "    tmp = []\n",
    "    for i in ids:\n",
    "        tmp.append([list(files.keys())[i]])\n",
    "    output.update({nm: tmp})\n",
    "    \n",
    "output"
   ]
  },
  {
   "cell_type": "code",
   "execution_count": 231,
   "metadata": {},
   "outputs": [
    {
     "name": "stdout",
     "output_type": "stream",
     "text": [
      "[21, 14, 7]\n",
      "[13, 21, 14, 7]\n",
      "[21, 14, 7]\n",
      "[13, 21, 14]\n"
     ]
    }
   ],
   "source": [
    "class TrainComposition:\n",
    "    \n",
    "    def __init__(self):\n",
    "        self.wagons = []\n",
    "    \n",
    "    def attach_wagon_from_left(self, wagonId):\n",
    "        return(self.wagons.insert(0,wagonId))\n",
    "    \n",
    "    def attach_wagon_from_right(self, wagonId):\n",
    "        return(self.wagons.append(wagonId))\n",
    "\n",
    "    def detach_wagon_from_left(self):\n",
    "        #target = self.wagons[0]\n",
    "        #self.wagons.remove(target)\n",
    "        tmp = self.wagons[:(len(self.wagons)-1)]\n",
    "        if(len(tmp) == 1):\n",
    "            tmp = tmp[0]\n",
    "        return(tmp)\n",
    "    \n",
    "    def detach_wagon_from_right(self):\n",
    "        #target = self.wagons[len(self.wagons)-1]\n",
    "        #self.wagons.remove(target)\n",
    "        tmp = self.wagons[1:]\n",
    "        if(len(tmp) == 1):\n",
    "            tmp = tmp[0]\n",
    "        return(tmp)\n",
    "        \n",
    "\n",
    "if __name__ == \"__main__\":\n",
    "    train = TrainComposition()\n",
    "    train.attach_wagon_from_left(7)\n",
    "    train.attach_wagon_from_left(14)\n",
    "    train.attach_wagon_from_left(21)\n",
    "    print(train.wagons)\n",
    "    train.attach_wagon_from_left(13)\n",
    "    print(train.wagons)\n",
    "    print(train.detach_wagon_from_right()) # should print 7\n",
    "    print(train.detach_wagon_from_left()) # should print 13\n",
    "    \n",
    "    #tmp = self.wagons[:(len(self.wagons)-1)]\n",
    "    #    if(len(tmp) == 1):\n",
    "    #        tmp = tmp[0]\n",
    "     #   return(tmp)\n",
    "#         tmp = self.wagons[1:]\n",
    "#         if(len(tmp) == 1):\n",
    "#             tmp = tmp[0]\n",
    "#         return(tmp)"
   ]
  },
  {
   "cell_type": "code",
   "execution_count": 225,
   "metadata": {},
   "outputs": [
    {
     "data": {
      "text/plain": [
       "[2, 1]"
      ]
     },
     "execution_count": 225,
     "metadata": {},
     "output_type": "execute_result"
    }
   ],
   "source": [
    "test = []\n",
    "test.append(1)\n",
    "test.insert(0,2)\n",
    "len(test[:(len(test)-1)])\n",
    "#test.remove(1)\n",
    "test"
   ]
  }
 ],
 "metadata": {
  "kernelspec": {
   "display_name": "Python 3",
   "language": "python",
   "name": "python3"
  },
  "language_info": {
   "codemirror_mode": {
    "name": "ipython",
    "version": 3
   },
   "file_extension": ".py",
   "mimetype": "text/x-python",
   "name": "python",
   "nbconvert_exporter": "python",
   "pygments_lexer": "ipython3",
   "version": "3.7.4"
  }
 },
 "nbformat": 4,
 "nbformat_minor": 4
}
