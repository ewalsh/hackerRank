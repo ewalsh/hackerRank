{
 "cells": [
  {
   "cell_type": "markdown",
   "metadata": {},
   "source": [
    "## Practice for Code Signal Test"
   ]
  },
  {
   "cell_type": "markdown",
   "metadata": {},
   "source": [
    "#### Task\n",
    "first duplicates"
   ]
  },
  {
   "cell_type": "code",
   "execution_count": null,
   "metadata": {},
   "outputs": [],
   "source": []
  },
  {
   "cell_type": "code",
   "execution_count": 108,
   "metadata": {},
   "outputs": [
    {
     "name": "stdout",
     "output_type": "stream",
     "text": [
      "0\n"
     ]
    },
    {
     "data": {
      "text/plain": [
       "8"
      ]
     },
     "execution_count": 108,
     "metadata": {},
     "output_type": "execute_result"
    }
   ],
   "source": [
    "#a = [2, 1, 3, 5, 1, 2, 3, 10, 5, 12]\n",
    "#a = [2,4,3]\n",
    "#a = [2,3,3]\n",
    "a = [8, 4, 6, 2, 6, 4, 7, 9, 5, 8]\n",
    "out = []\n",
    "counter = 0\n",
    "if len(a) > 1:\n",
    "    while len(out) < 1:\n",
    "        if counter < (len(a)):\n",
    "            num = a[counter]\n",
    "            print(counter)\n",
    "            if a.count(num) > 1:\n",
    "                ans = counter\n",
    "                out.append(a[ans])\n",
    "            counter = counter + 1\n",
    "        else:\n",
    "            out.append(-1)\n",
    "else:\n",
    "    out.append(-1)\n",
    "\n",
    "out[0]"
   ]
  },
  {
   "cell_type": "code",
   "execution_count": null,
   "metadata": {},
   "outputs": [],
   "source": [
    "a = [1]\n",
    "iters = [i for i in range(0,len(a))]\n",
    "ans = 10**6\n",
    "for i in iters:\n",
    "    target = a[i]\n",
    "    if len(iters) > 0:\n",
    "        for j in range(i+1,len(a)):\n",
    "            #print(a[j] == a[i])\n",
    "            if a[j] == a[i]:\n",
    "                if j < ans:\n",
    "                    ans = j\n",
    "    else:\n",
    "        ans = 0\n",
    "\n",
    "if ans == 10**6:\n",
    "    out = -1\n",
    "else:\n",
    "    out = a[ans]\n",
    "            \n",
    "    \n",
    "out"
   ]
  },
  {
   "cell_type": "code",
   "execution_count": 106,
   "metadata": {},
   "outputs": [],
   "source": [
    "def first_duplicate(a):\n",
    "    out = []\n",
    "    counter = 0\n",
    "    if len(a) > 1:\n",
    "        while len(out) < 1:\n",
    "            if counter < (len(a)):\n",
    "                num = a[counter]\n",
    "                #print(counter)\n",
    "                if a.count(num) > 1:\n",
    "                    ans = counter\n",
    "                    out.append(a[ans])\n",
    "                counter = counter + 1\n",
    "            else:\n",
    "                out.append(-1)\n",
    "    else:\n",
    "        out.append(-1)\n",
    "        \n",
    "    return(out[0])"
   ]
  },
  {
   "cell_type": "code",
   "execution_count": 107,
   "metadata": {},
   "outputs": [
    {
     "data": {
      "text/plain": [
       "3"
      ]
     },
     "execution_count": 107,
     "metadata": {},
     "output_type": "execute_result"
    }
   ],
   "source": [
    "#a= [2,2]\n",
    "first_duplicate(a)"
   ]
  },
  {
   "cell_type": "code",
   "execution_count": 26,
   "metadata": {},
   "outputs": [
    {
     "data": {
      "text/plain": [
       "[0]"
      ]
     },
     "execution_count": 26,
     "metadata": {},
     "output_type": "execute_result"
    }
   ],
   "source": [
    " [(len(a) - i - 1) for i in range(0,len(a))][1:]"
   ]
  },
  {
   "cell_type": "code",
   "execution_count": 29,
   "metadata": {},
   "outputs": [
    {
     "data": {
      "text/plain": [
       "[]"
      ]
     },
     "execution_count": 29,
     "metadata": {},
     "output_type": "execute_result"
    }
   ],
   "source": [
    "list(range(0, 0))"
   ]
  },
  {
   "cell_type": "code",
   "execution_count": null,
   "metadata": {},
   "outputs": [],
   "source": []
  }
 ],
 "metadata": {
  "kernelspec": {
   "display_name": "Python 3",
   "language": "python",
   "name": "python3"
  },
  "language_info": {
   "codemirror_mode": {
    "name": "ipython",
    "version": 3
   },
   "file_extension": ".py",
   "mimetype": "text/x-python",
   "name": "python",
   "nbconvert_exporter": "python",
   "pygments_lexer": "ipython3",
   "version": "3.7.4"
  }
 },
 "nbformat": 4,
 "nbformat_minor": 4
}
